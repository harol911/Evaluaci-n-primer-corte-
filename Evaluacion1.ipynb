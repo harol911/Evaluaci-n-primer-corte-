{
  "nbformat": 4,
  "nbformat_minor": 0,
  "metadata": {
    "colab": {
      "provenance": [],
      "include_colab_link": true
    },
    "kernelspec": {
      "name": "python3",
      "display_name": "Python 3"
    },
    "language_info": {
      "name": "python"
    }
  },
  "cells": [
    {
      "cell_type": "markdown",
      "metadata": {
        "id": "view-in-github",
        "colab_type": "text"
      },
      "source": [
        "<a href=\"https://colab.research.google.com/github/harol911/Evaluaci-n-primer-corte-/blob/main/Evaluacion1.ipynb\" target=\"_parent\"><img src=\"https://colab.research.google.com/assets/colab-badge.svg\" alt=\"Open In Colab\"/></a>"
      ]
    },
    {
      "cell_type": "markdown",
      "source": [
        "Hagamos un modelo de regresión lineal simple con el archivo"
      ],
      "metadata": {
        "id": "YauFiOol53WI"
      }
    },
    {
      "cell_type": "code",
      "execution_count": 4,
      "metadata": {
        "id": "jz5xw-yB10xv"
      },
      "outputs": [],
      "source": [
        "# Importar librerías\n",
        "import sys\n",
        "import pandas as pd\n",
        "import numpy as np\n",
        "import matplotlib.pyplot as plt\n",
        "from sklearn.linear_model import LinearRegression, LogisticRegression\n",
        "from sklearn.model_selection import train_test_split\n",
        "from sklearn.metrics import mean_squared_error, r2_score, accuracy_score, confusion_matrix"
      ]
    },
    {
      "cell_type": "code",
      "source": [
        "# Cargar datos\n",
        "df = pd.read_csv(\"datos_ml.csv\")\n",
        "print(df.head())"
      ],
      "metadata": {
        "colab": {
          "base_uri": "https://localhost:8080/"
        },
        "id": "QdDHcnP13J8-",
        "outputId": "a69105c6-ecbb-4458-bb90-56015567a06f"
      },
      "execution_count": 15,
      "outputs": [
        {
          "output_type": "stream",
          "name": "stdout",
          "text": [
            "   Edad  Ingresos  Años_Estudio  Compra\n",
            "0    25     32000            11       0\n",
            "1    30     45000            14       1\n",
            "2    22     28000            10       0\n",
            "3    35     52000            16       1\n",
            "4    28     39000            12       0\n"
          ]
        }
      ]
    },
    {
      "cell_type": "code",
      "source": [
        "# Regresión Lineal Simple (Ingresos vs Edad)\n",
        "X_simple = df[[\"Edad\"]]\n",
        "y_simple = df[\"Ingresos\"]\n"
      ],
      "metadata": {
        "id": "eUxlXWCZ3t_I"
      },
      "execution_count": 16,
      "outputs": []
    },
    {
      "cell_type": "markdown",
      "source": [
        "Genera un modelo de regresión lineal de `scikit-learn` con `X_simple`, `y_simple`, usando un **80% de los datos para entrenamiento** y un `random_state=42`\n",
        "\n",
        "Guarda el modelo en la variable `modelo_lineal_simple` y genera una predicción que se almacene en `y_pred_simple`."
      ],
      "metadata": {
        "id": "s6DODK2p4gdB"
      }
    },
    {
      "cell_type": "code",
      "source": [
        "def modelo_lineal_simple (modelo_lineal_simple):\n",
        "  pass\n",
        "def X_simple (X_simple):\n",
        "  pass\n",
        "def y_simple (y_simple):\n",
        "  pass\n",
        "\n",
        "try:\n",
        "  print(\"Regresión Lineal Simple:\")\n",
        "  print(\"Coeficiente:\", modelo_lineal_simple.coef_[0])\n",
        "  print(\"Intercepto:\", modelo_lineal_simple.intercept_)\n",
        "  print(\"R²:\", r2_score(y_test, y_pred_simple))\n",
        "except Exception as e:\n",
        "  print(f\"Hubo un problema con el Modelo de regresión: {e}\")"
      ],
      "metadata": {
        "colab": {
          "base_uri": "https://localhost:8080/"
        },
        "id": "ZA49o9pW3mq6",
        "outputId": "98d16b92-1557-41c3-e8e8-823236d2bddd"
      },
      "execution_count": 19,
      "outputs": [
        {
          "output_type": "stream",
          "name": "stdout",
          "text": [
            "Regresión Lineal Simple:\n",
            "Hubo un problema con el Modelo de regresión: 'function' object has no attribute 'coef_'\n"
          ]
        }
      ]
    },
    {
      "cell_type": "code",
      "source": [],
      "metadata": {
        "id": "n-C7-v8F4DgQ"
      },
      "execution_count": null,
      "outputs": []
    }
  ]
}